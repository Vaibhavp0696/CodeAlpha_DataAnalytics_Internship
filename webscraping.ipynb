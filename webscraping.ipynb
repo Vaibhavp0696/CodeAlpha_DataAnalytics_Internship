{
 "cells": [
  {
   "cell_type": "markdown",
   "id": "33647877",
   "metadata": {},
   "source": [
    "### TASK 1 : WebScraping"
   ]
  },
  {
   "cell_type": "code",
   "execution_count": 1,
   "id": "0698d90b",
   "metadata": {},
   "outputs": [],
   "source": [
    "# Import required libraries\n",
    "import requests # To send HTTP requests to the website\n",
    "from bs4 import BeautifulSoup # To parse and extract HTML content\n"
   ]
  },
  {
   "cell_type": "code",
   "execution_count": 2,
   "id": "a9e678dc",
   "metadata": {},
   "outputs": [],
   "source": [
    "# Step 1: Define the URL of the website we want to scrape\n",
    "url = \"https://books.toscrape.com/\"\n",
    "# Step 2: Send a request to the website and get its HTML content\n",
    "respons = requests.get(url)\n",
    "# Step 3: Parse the HTML content using BeautifulSoup\n",
    "# 'html.parser' is the built-in HTML parser in Python\n",
    "soup = BeautifulSoup(respons.text,\"html.parser\")"
   ]
  },
  {
   "cell_type": "code",
   "execution_count": 3,
   "id": "69c2415d",
   "metadata": {},
   "outputs": [],
   "source": [
    "# Step 4: Find all the HTML elements that contain book information\n",
    "# In this website, each book is inside an <article> tag with class \"product_pod\"\n",
    "books = soup.find_all(\"article\",class_=\"product_pod\")\n",
    "# Step 5: Create an empty list to store book data\n",
    "data = []\n",
    "# Step 6: Loop through each book and extract title and price\n",
    "for book in books:\n",
    "    title = book.h3.a[\"title\"]\n",
    "    price = book.find(\"p\", class_=\"price_color\").text\n",
    "    availability = book.find(\"p\", class_=\"instock availability\").text.strip() # Price is inside <p> tag with class \"price_color\"\n",
    "    data.append({\n",
    "        \"title\": title,\n",
    "        \"price\" : price,\n",
    "        \"availability\" : availability\n",
    "    })\n",
    "    "
   ]
  },
  {
   "cell_type": "code",
   "execution_count": 4,
   "id": "ee52c375",
   "metadata": {},
   "outputs": [
    {
     "name": "stdout",
     "output_type": "stream",
     "text": [
      "Scraping complete. Data saved to books_data.csv\n"
     ]
    }
   ],
   "source": [
    "import pandas as pd\n",
    "\n",
    "df = pd.DataFrame(data)\n",
    "# Save the DataFrame to a CSV file\n",
    "df.to_csv(\"books_data.csv\", index=False)\n",
    "print(\"Scraping complete. Data saved to books_data.csv\")\n"
   ]
  }
 ],
 "metadata": {
  "kernelspec": {
   "display_name": "base",
   "language": "python",
   "name": "python3"
  },
  "language_info": {
   "codemirror_mode": {
    "name": "ipython",
    "version": 3
   },
   "file_extension": ".py",
   "mimetype": "text/x-python",
   "name": "python",
   "nbconvert_exporter": "python",
   "pygments_lexer": "ipython3",
   "version": "3.12.9"
  }
 },
 "nbformat": 4,
 "nbformat_minor": 5
}
